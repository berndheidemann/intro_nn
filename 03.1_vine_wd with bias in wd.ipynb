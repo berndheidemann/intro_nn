{
 "cells": [
  {
   "cell_type": "code",
   "execution_count": 1,
   "metadata": {},
   "outputs": [],
   "source": [
    "# load vine dataset from scikit-learn\n",
    "import torch \n",
    "from matplotlib import pyplot as plt\n",
    "from sklearn.datasets import load_wine\n",
    "torch.manual_seed(1234)\n",
    "\n",
    "# load dataset\n",
    "data = load_wine()\n",
    "import pandas as pd\n",
    "df=pd.DataFrame(data[\"data\"],columns=data[\"feature_names\"])\n",
    "y=df[\"alcohol\"]\n",
    "x=df.drop(\"alcohol\",axis=1)"
   ]
  },
  {
   "cell_type": "code",
   "execution_count": 2,
   "metadata": {},
   "outputs": [
    {
     "data": {
      "text/html": [
       "<div>\n",
       "<style scoped>\n",
       "    .dataframe tbody tr th:only-of-type {\n",
       "        vertical-align: middle;\n",
       "    }\n",
       "\n",
       "    .dataframe tbody tr th {\n",
       "        vertical-align: top;\n",
       "    }\n",
       "\n",
       "    .dataframe thead th {\n",
       "        text-align: right;\n",
       "    }\n",
       "</style>\n",
       "<table border=\"1\" class=\"dataframe\">\n",
       "  <thead>\n",
       "    <tr style=\"text-align: right;\">\n",
       "      <th></th>\n",
       "      <th>malic_acid</th>\n",
       "      <th>ash</th>\n",
       "      <th>alcalinity_of_ash</th>\n",
       "      <th>magnesium</th>\n",
       "      <th>total_phenols</th>\n",
       "      <th>flavanoids</th>\n",
       "      <th>nonflavanoid_phenols</th>\n",
       "      <th>proanthocyanins</th>\n",
       "      <th>color_intensity</th>\n",
       "      <th>hue</th>\n",
       "      <th>od280/od315_of_diluted_wines</th>\n",
       "      <th>proline</th>\n",
       "    </tr>\n",
       "  </thead>\n",
       "  <tbody>\n",
       "    <tr>\n",
       "      <th>0</th>\n",
       "      <td>-0.562250</td>\n",
       "      <td>0.232053</td>\n",
       "      <td>-1.169593</td>\n",
       "      <td>1.913905</td>\n",
       "      <td>0.808997</td>\n",
       "      <td>1.034819</td>\n",
       "      <td>-0.659563</td>\n",
       "      <td>1.224884</td>\n",
       "      <td>0.251717</td>\n",
       "      <td>0.362177</td>\n",
       "      <td>1.847920</td>\n",
       "      <td>1.013009</td>\n",
       "    </tr>\n",
       "    <tr>\n",
       "      <th>1</th>\n",
       "      <td>-0.499413</td>\n",
       "      <td>-0.827996</td>\n",
       "      <td>-2.490847</td>\n",
       "      <td>0.018145</td>\n",
       "      <td>0.568648</td>\n",
       "      <td>0.733629</td>\n",
       "      <td>-0.820719</td>\n",
       "      <td>-0.544721</td>\n",
       "      <td>-0.293321</td>\n",
       "      <td>0.406051</td>\n",
       "      <td>1.113449</td>\n",
       "      <td>0.965242</td>\n",
       "    </tr>\n",
       "    <tr>\n",
       "      <th>2</th>\n",
       "      <td>0.021231</td>\n",
       "      <td>1.109334</td>\n",
       "      <td>-0.268738</td>\n",
       "      <td>0.088358</td>\n",
       "      <td>0.808997</td>\n",
       "      <td>1.215533</td>\n",
       "      <td>-0.498407</td>\n",
       "      <td>2.135968</td>\n",
       "      <td>0.269020</td>\n",
       "      <td>0.318304</td>\n",
       "      <td>0.788587</td>\n",
       "      <td>1.395148</td>\n",
       "    </tr>\n",
       "    <tr>\n",
       "      <th>3</th>\n",
       "      <td>-0.346811</td>\n",
       "      <td>0.487926</td>\n",
       "      <td>-0.809251</td>\n",
       "      <td>0.930918</td>\n",
       "      <td>2.491446</td>\n",
       "      <td>1.466525</td>\n",
       "      <td>-0.981875</td>\n",
       "      <td>1.032155</td>\n",
       "      <td>1.186068</td>\n",
       "      <td>-0.427544</td>\n",
       "      <td>1.184071</td>\n",
       "      <td>2.334574</td>\n",
       "    </tr>\n",
       "    <tr>\n",
       "      <th>4</th>\n",
       "      <td>0.227694</td>\n",
       "      <td>1.840403</td>\n",
       "      <td>0.451946</td>\n",
       "      <td>1.281985</td>\n",
       "      <td>0.808997</td>\n",
       "      <td>0.663351</td>\n",
       "      <td>0.226796</td>\n",
       "      <td>0.401404</td>\n",
       "      <td>-0.319276</td>\n",
       "      <td>0.362177</td>\n",
       "      <td>0.449601</td>\n",
       "      <td>-0.037874</td>\n",
       "    </tr>\n",
       "  </tbody>\n",
       "</table>\n",
       "</div>"
      ],
      "text/plain": [
       "   malic_acid       ash  alcalinity_of_ash  magnesium  total_phenols  \\\n",
       "0   -0.562250  0.232053          -1.169593   1.913905       0.808997   \n",
       "1   -0.499413 -0.827996          -2.490847   0.018145       0.568648   \n",
       "2    0.021231  1.109334          -0.268738   0.088358       0.808997   \n",
       "3   -0.346811  0.487926          -0.809251   0.930918       2.491446   \n",
       "4    0.227694  1.840403           0.451946   1.281985       0.808997   \n",
       "\n",
       "   flavanoids  nonflavanoid_phenols  proanthocyanins  color_intensity  \\\n",
       "0    1.034819             -0.659563         1.224884         0.251717   \n",
       "1    0.733629             -0.820719        -0.544721        -0.293321   \n",
       "2    1.215533             -0.498407         2.135968         0.269020   \n",
       "3    1.466525             -0.981875         1.032155         1.186068   \n",
       "4    0.663351              0.226796         0.401404        -0.319276   \n",
       "\n",
       "        hue  od280/od315_of_diluted_wines   proline  \n",
       "0  0.362177                      1.847920  1.013009  \n",
       "1  0.406051                      1.113449  0.965242  \n",
       "2  0.318304                      0.788587  1.395148  \n",
       "3 -0.427544                      1.184071  2.334574  \n",
       "4  0.362177                      0.449601 -0.037874  "
      ]
     },
     "execution_count": 2,
     "metadata": {},
     "output_type": "execute_result"
    }
   ],
   "source": [
    "# scale data\n",
    "\n",
    "from sklearn.preprocessing import StandardScaler\n",
    "\n",
    "scaler=StandardScaler()\n",
    "scaler.fit(x)\n",
    "x_scaled=scaler.transform(x)\n",
    "\n",
    "x=pd.DataFrame(x_scaled,columns=x.columns)\n",
    "x.head()"
   ]
  },
  {
   "cell_type": "code",
   "execution_count": 3,
   "metadata": {},
   "outputs": [],
   "source": [
    "\n",
    "from sklearn.model_selection import train_test_split\n",
    "\n",
    "x_train,x_test,y_train,y_test=train_test_split(x,y,test_size=0.2,random_state=1234)\n",
    "x_train_tensor=torch.tensor(x_train.values, dtype=torch.float32)"
   ]
  },
  {
   "cell_type": "code",
   "execution_count": 4,
   "metadata": {},
   "outputs": [],
   "source": [
    "def relu(x):\n",
    "    return torch.max(torch.tensor(0.0), x)\n",
    "\n",
    "def root_mean_squared_error(y_hat,y):\n",
    "    return torch.sqrt(torch.mean((y_hat-y)**2))"
   ]
  },
  {
   "cell_type": "code",
   "execution_count": 5,
   "metadata": {},
   "outputs": [
    {
     "data": {
      "image/png": "[encoded data removed]",
      "text/plain": [
       "<Figure size 640x480 with 1 Axes>"
      ]
     },
     "metadata": {},
     "output_type": "display_data"
    }
   ],
   "source": [
    "lr=0.01\n",
    "wd=0.1\n",
    "torch.manual_seed(1234)\n",
    "\n",
    "epochs=4000\n",
    "losses=[]\n",
    "rmse_test=[]\n",
    "hidden_count=20\n",
    "w1 = torch.normal(std=1, mean=0, size=(12, hidden_count), dtype=torch.float32, requires_grad=True)\n",
    "w2 = torch.normal(std=1, mean=0, size=(hidden_count, 1), dtype=torch.float32, requires_grad=True)\n",
    "b1=torch.zeros(hidden_count, requires_grad=True)\n",
    "y_train_tensor=torch.tensor(y_train.values, dtype=torch.float32)\n",
    "x_test_tensor=torch.tensor(x_test.values, dtype=torch.float32)\n",
    "y_test_tensor=torch.tensor(y_test.values, dtype=torch.float32)\n",
    "for i in range(epochs):\n",
    "    y_hat=relu(relu(x_train_tensor@w1+b1)@w2)           # das hier unter dem Kommentar ist die einzige Änderung\n",
    "    loss=root_mean_squared_error(y_hat, y_train_tensor)+(torch.sum(w1**2)+torch.sum(w2**2)+ torch.sum(b1**2))*wd\n",
    "    losses.append(loss.item())\n",
    "    y_test_hat=relu(relu(x_test_tensor@w1+b1)@w2)\n",
    "    y_test_rmse=root_mean_squared_error(y_test_hat, y_test_tensor)\n",
    "    rmse_test.append(y_test_rmse.item())\n",
    "    loss.backward()\n",
    "    with torch.no_grad():\n",
    "        w1.sub_(lr*w1.grad)\n",
    "        w2.sub_(lr*w2.grad)\n",
    "        b1.sub_(lr*b1.grad)\n",
    "        w1.grad.zero_()\n",
    "        w2.grad.zero_()\n",
    "        b1.grad.zero_()\n",
    "\n",
    "plt.plot(range(epochs),losses, color=\"blue\")\n",
    "plt.plot(range(epochs),rmse_test, color=\"red\")\n",
    "plt.legend([\"loss\", \"rmse_test\"])\n",
    "plt.show()\n"
   ]
  },
  {
   "cell_type": "code",
   "execution_count": 9,
   "metadata": {},
   "outputs": [
    {
     "data": {
      "text/plain": [
       "0.830639660358429"
      ]
     },
     "execution_count": 9,
     "metadata": {},
     "output_type": "execute_result"
    }
   ],
   "source": [
    "y_test_hat=relu(relu(x_test_tensor@w1+b1)@w2)\n",
    "rmse_test=root_mean_squared_error(y_test_hat, y_test_tensor)\n",
    "rmse_test.item()"
   ]
  },
  {
   "cell_type": "code",
   "execution_count": 10,
   "metadata": {},
   "outputs": [
    {
     "data": {
      "text/plain": [
       "0.8543630838394165"
      ]
     },
     "execution_count": 10,
     "metadata": {},
     "output_type": "execute_result"
    }
   ],
   "source": [
    "y_train_hat=relu(relu(x_train_tensor@w1+b1)@w2)\n",
    "rmse_train=root_mean_squared_error(y_train_hat, y_train_tensor)\n",
    "rmse_train.item()\n"
   ]
  },
  {
   "cell_type": "code",
   "execution_count": 8,
   "metadata": {},
   "outputs": [
    {
     "data": {
      "text/plain": [
       "tensor([[12.8553],\n",
       "        [12.2864],\n",
       "        [12.8765],\n",
       "        [12.7183],\n",
       "        [12.5328],\n",
       "        [12.7825],\n",
       "        [13.0201],\n",
       "        [12.3203],\n",
       "        [13.0170],\n",
       "        [12.8921],\n",
       "        [12.7642],\n",
       "        [12.4939],\n",
       "        [12.8050],\n",
       "        [12.5610],\n",
       "        [12.8229],\n",
       "        [12.8478],\n",
       "        [12.7727],\n",
       "        [12.8715],\n",
       "        [12.8702],\n",
       "        [13.1297],\n",
       "        [12.5605],\n",
       "        [12.9806],\n",
       "        [12.5432],\n",
       "        [12.7966],\n",
       "        [12.7215],\n",
       "        [12.9674],\n",
       "        [12.7396],\n",
       "        [12.9957],\n",
       "        [12.8549],\n",
       "        [12.9041],\n",
       "        [12.8107],\n",
       "        [12.4603],\n",
       "        [12.7505],\n",
       "        [12.4326],\n",
       "        [12.8369],\n",
       "        [12.6837]], grad_fn=<MaximumBackward0>)"
      ]
     },
     "execution_count": 8,
     "metadata": {},
     "output_type": "execute_result"
    }
   ],
   "source": [
    "y_test_hat"
   ]
  },
  {
   "cell_type": "markdown",
   "metadata": {},
   "source": []
  }
 ],
 "metadata": {
  "kernelspec": {
   "display_name": "torch_ds",
   "language": "python",
   "name": "python3"
  },
  "language_info": {
   "codemirror_mode": {
    "name": "ipython",
    "version": 3
   },
   "file_extension": ".py",
   "mimetype": "text/x-python",
   "name": "python",
   "nbconvert_exporter": "python",
   "pygments_lexer": "ipython3",
   "version": "3.10.8"
  }
 },
 "nbformat": 4,
 "nbformat_minor": 2
}
